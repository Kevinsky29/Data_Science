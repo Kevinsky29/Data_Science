{
  "nbformat": 4,
  "nbformat_minor": 0,
  "metadata": {
    "colab": {
      "provenance": []
    },
    "kernelspec": {
      "name": "python3",
      "display_name": "Python 3"
    },
    "language_info": {
      "name": "python"
    }
  },
  "cells": [
    {
      "cell_type": "markdown",
      "source": [
        "# Librerias y carga de base de datos"
      ],
      "metadata": {
        "id": "lqvcH-Anok22"
      }
    },
    {
      "cell_type": "code",
      "execution_count": null,
      "metadata": {
        "id": "sQars-_K_PPp"
      },
      "outputs": [],
      "source": [
        "#Importamos las paqueterias que se van a utilizar para la practica\n",
        "import numpy as np\n",
        "from sklearn import datasets, linear_model\n",
        "import matplotlib.pyplot as plt\n",
        "from sklearn.model_selection import train_test_split\n",
        "import pandas as pd\n",
        "from sklearn.metrics import mean_squared_error"
      ]
    },
    {
      "cell_type": "code",
      "source": [
        "#Cargamos la base de datos de boston\n",
        "boston = datasets.load_boston()\n",
        "print(\"Informacion del dataset\")\n",
        "print(boston.keys())"
      ],
      "metadata": {
        "colab": {
          "base_uri": "https://localhost:8080/"
        },
        "id": "WsE0fr-O_anf",
        "outputId": "ca4b3bab-fa65-4f7c-bc84-aa36617721d4"
      },
      "execution_count": null,
      "outputs": [
        {
          "output_type": "stream",
          "name": "stdout",
          "text": [
            "Informacion del dataset\n",
            "dict_keys(['data', 'target', 'feature_names', 'DESCR', 'filename', 'data_module'])\n"
          ]
        },
        {
          "output_type": "stream",
          "name": "stderr",
          "text": [
            "/usr/local/lib/python3.8/dist-packages/sklearn/utils/deprecation.py:87: FutureWarning: Function load_boston is deprecated; `load_boston` is deprecated in 1.0 and will be removed in 1.2.\n",
            "\n",
            "    The Boston housing prices dataset has an ethical problem. You can refer to\n",
            "    the documentation of this function for further details.\n",
            "\n",
            "    The scikit-learn maintainers therefore strongly discourage the use of this\n",
            "    dataset unless the purpose of the code is to study and educate about\n",
            "    ethical issues in data science and machine learning.\n",
            "\n",
            "    In this special case, you can fetch the dataset from the original\n",
            "    source::\n",
            "\n",
            "        import pandas as pd\n",
            "        import numpy as np\n",
            "\n",
            "\n",
            "        data_url = \"http://lib.stat.cmu.edu/datasets/boston\"\n",
            "        raw_df = pd.read_csv(data_url, sep=\"\\s+\", skiprows=22, header=None)\n",
            "        data = np.hstack([raw_df.values[::2, :], raw_df.values[1::2, :2]])\n",
            "        target = raw_df.values[1::2, 2]\n",
            "\n",
            "    Alternative datasets include the California housing dataset (i.e.\n",
            "    :func:`~sklearn.datasets.fetch_california_housing`) and the Ames housing\n",
            "    dataset. You can load the datasets as follows::\n",
            "\n",
            "        from sklearn.datasets import fetch_california_housing\n",
            "        housing = fetch_california_housing()\n",
            "\n",
            "    for the California housing dataset and::\n",
            "\n",
            "        from sklearn.datasets import fetch_openml\n",
            "        housing = fetch_openml(name=\"house_prices\", as_frame=True)\n",
            "\n",
            "    for the Ames housing dataset.\n",
            "    \n",
            "  warnings.warn(msg, category=FutureWarning)\n"
          ]
        }
      ]
    },
    {
      "cell_type": "code",
      "source": [
        "#Describimos las caracteristicas del Dataset\n",
        "print(\"Caracteristicas del Dataset\")\n",
        "print(boston.DESCR)"
      ],
      "metadata": {
        "colab": {
          "base_uri": "https://localhost:8080/"
        },
        "id": "BmeXpE-N_dvc",
        "outputId": "f477463f-0e54-4130-9de8-6349874bd1bd"
      },
      "execution_count": null,
      "outputs": [
        {
          "output_type": "stream",
          "name": "stdout",
          "text": [
            "Caracteristicas del Dataset\n",
            ".. _boston_dataset:\n",
            "\n",
            "Boston house prices dataset\n",
            "---------------------------\n",
            "\n",
            "**Data Set Characteristics:**  \n",
            "\n",
            "    :Number of Instances: 506 \n",
            "\n",
            "    :Number of Attributes: 13 numeric/categorical predictive. Median Value (attribute 14) is usually the target.\n",
            "\n",
            "    :Attribute Information (in order):\n",
            "        - CRIM     per capita crime rate by town\n",
            "        - ZN       proportion of residential land zoned for lots over 25,000 sq.ft.\n",
            "        - INDUS    proportion of non-retail business acres per town\n",
            "        - CHAS     Charles River dummy variable (= 1 if tract bounds river; 0 otherwise)\n",
            "        - NOX      nitric oxides concentration (parts per 10 million)\n",
            "        - RM       average number of rooms per dwelling\n",
            "        - AGE      proportion of owner-occupied units built prior to 1940\n",
            "        - DIS      weighted distances to five Boston employment centres\n",
            "        - RAD      index of accessibility to radial highways\n",
            "        - TAX      full-value property-tax rate per $10,000\n",
            "        - PTRATIO  pupil-teacher ratio by town\n",
            "        - B        1000(Bk - 0.63)^2 where Bk is the proportion of black people by town\n",
            "        - LSTAT    % lower status of the population\n",
            "        - MEDV     Median value of owner-occupied homes in $1000's\n",
            "\n",
            "    :Missing Attribute Values: None\n",
            "\n",
            "    :Creator: Harrison, D. and Rubinfeld, D.L.\n",
            "\n",
            "This is a copy of UCI ML housing dataset.\n",
            "https://archive.ics.uci.edu/ml/machine-learning-databases/housing/\n",
            "\n",
            "\n",
            "This dataset was taken from the StatLib library which is maintained at Carnegie Mellon University.\n",
            "\n",
            "The Boston house-price data of Harrison, D. and Rubinfeld, D.L. 'Hedonic\n",
            "prices and the demand for clean air', J. Environ. Economics & Management,\n",
            "vol.5, 81-102, 1978.   Used in Belsley, Kuh & Welsch, 'Regression diagnostics\n",
            "...', Wiley, 1980.   N.B. Various transformations are used in the table on\n",
            "pages 244-261 of the latter.\n",
            "\n",
            "The Boston house-price data has been used in many machine learning papers that address regression\n",
            "problems.   \n",
            "     \n",
            ".. topic:: References\n",
            "\n",
            "   - Belsley, Kuh & Welsch, 'Regression diagnostics: Identifying Influential Data and Sources of Collinearity', Wiley, 1980. 244-261.\n",
            "   - Quinlan,R. (1993). Combining Instance-Based and Model-Based Learning. In Proceedings on the Tenth International Conference of Machine Learning, 236-243, University of Massachusetts, Amherst. Morgan Kaufmann.\n",
            "\n"
          ]
        }
      ]
    },
    {
      "cell_type": "code",
      "source": [
        "#Conocemos las dimensiones de nuestra base de datos\n",
        "print(\"Cantida de datos\")\n",
        "print(boston.data.shape)"
      ],
      "metadata": {
        "colab": {
          "base_uri": "https://localhost:8080/"
        },
        "id": "AkvEmjDV_kSL",
        "outputId": "0cd583c0-7782-47c3-adf9-3fcd4fa610eb"
      },
      "execution_count": null,
      "outputs": [
        {
          "output_type": "stream",
          "name": "stdout",
          "text": [
            "Cantida de datos\n",
            "(506, 13)\n"
          ]
        }
      ]
    },
    {
      "cell_type": "code",
      "source": [
        "#Aqui mostramos las etiquetas\n",
        "boston.feature_names"
      ],
      "metadata": {
        "colab": {
          "base_uri": "https://localhost:8080/"
        },
        "id": "bgB5QsjY_2A0",
        "outputId": "dd67066c-2176-4a64-eb20-390b3564d830"
      },
      "execution_count": null,
      "outputs": [
        {
          "output_type": "execute_result",
          "data": {
            "text/plain": [
              "array(['CRIM', 'ZN', 'INDUS', 'CHAS', 'NOX', 'RM', 'AGE', 'DIS', 'RAD',\n",
              "       'TAX', 'PTRATIO', 'B', 'LSTAT'], dtype='<U7')"
            ]
          },
          "metadata": {},
          "execution_count": 5
        }
      ]
    },
    {
      "cell_type": "markdown",
      "source": [
        "# Modelo de regresion lineal"
      ],
      "metadata": {
        "id": "2eqc6S38oljm"
      }
    },
    {
      "cell_type": "code",
      "source": [
        "X = boston.data[:,np.newaxis,5]\n",
        "y = boston.target"
      ],
      "metadata": {
        "id": "UQCfbECYAMss"
      },
      "execution_count": null,
      "outputs": []
    },
    {
      "cell_type": "code",
      "source": [
        "plt.scatter(X,y)\n",
        "plt.xlabel(\"Numero de Habitaciones\")\n",
        "plt.ylabel(\"Valor Medio\")\n",
        "plt.show()"
      ],
      "metadata": {
        "colab": {
          "base_uri": "https://localhost:8080/",
          "height": 279
        },
        "id": "ytA6sxYdAlhi",
        "outputId": "22c348fb-fb3e-4429-a5f4-6001b0ab43d3"
      },
      "execution_count": null,
      "outputs": [
        {
          "output_type": "display_data",
          "data": {
            "text/plain": [
              "<Figure size 432x288 with 1 Axes>"
            ],
            "image/png": "[encoded data removed]"
          },
          "metadata": {
            "needs_background": "light"
          }
        }
      ]
    },
    {
      "cell_type": "markdown",
      "source": [
        "# Entrenamiento"
      ],
      "metadata": {
        "id": "EY7HzOcM7flz"
      }
    },
    {
      "cell_type": "code",
      "source": [
        "X_train, X_test, y_train, y_test = train_test_split(X, y, test_size=0.2)"
      ],
      "metadata": {
        "id": "u4fjBErxA4_n"
      },
      "execution_count": null,
      "outputs": []
    },
    {
      "cell_type": "code",
      "source": [
        "lr = linear_model.LinearRegression()"
      ],
      "metadata": {
        "id": "HIkreyqFBgQE"
      },
      "execution_count": null,
      "outputs": []
    },
    {
      "cell_type": "code",
      "source": [
        "lr.fit(X_train, y_train)"
      ],
      "metadata": {
        "colab": {
          "base_uri": "https://localhost:8080/"
        },
        "id": "pBOSzvqiBrkT",
        "outputId": "8db4eb06-95fe-4980-d79b-bc1c4ea490f2"
      },
      "execution_count": null,
      "outputs": [
        {
          "output_type": "execute_result",
          "data": {
            "text/plain": [
              "LinearRegression()"
            ]
          },
          "metadata": {},
          "execution_count": 10
        }
      ]
    },
    {
      "cell_type": "code",
      "source": [
        "y_pred = lr.predict(X_test)"
      ],
      "metadata": {
        "id": "13XhAk4hB4Ei"
      },
      "execution_count": null,
      "outputs": []
    },
    {
      "cell_type": "code",
      "source": [
        "plt.scatter(X_test, y_test, label='Datos Reales')\n",
        "plt.plot(X_test, y_pred, color='red', linewidth=3, label='Datos Predichos')\n",
        "plt.xlabel(\"Numero de Habitaciones\")\n",
        "plt.ylabel(\"Valor Medio\")\n",
        "plt.title(\"Comparación entre datos reales y predichos\")\n",
        "plt.legend()\n",
        "plt.show()\n",
        "\n",
        "x = range(len(y_test))\n",
        "\n",
        "fig, axs = plt.subplots(1, 2, figsize=(10, 5))\n",
        "axs[0].bar(x, y_test, color='blue')\n",
        "axs[0].set_title('Precio Real')\n",
        "axs[1].bar(x, y_pred, color='red')\n",
        "axs[1].set_title('Precio Predicho')\n",
        "\n",
        "plt.show()"
      ],
      "metadata": {
        "colab": {
          "base_uri": "https://localhost:8080/",
          "height": 614
        },
        "id": "B54esm7WCPOD",
        "outputId": "bac1aa42-2537-4a84-b5ba-b3df402a9ee0"
      },
      "execution_count": null,
      "outputs": [
        {
          "output_type": "display_data",
          "data": {
            "text/plain": [
              "<Figure size 432x288 with 1 Axes>"
            ],
            "image/png": "[encoded data removed]"
          },
          "metadata": {
            "needs_background": "light"
          }
        },
        {
          "output_type": "display_data",
          "data": {
            "text/plain": [
              "<Figure size 720x360 with 2 Axes>"
            ],
            "image/png": "[encoded data removed]"
          },
          "metadata": {
            "needs_background": "light"
          }
        }
      ]
    },
    {
      "cell_type": "code",
      "source": [
        "def color_cell(val):\n",
        "    color = 'blue' if val['y_test'] >= val['y_pred'] else 'red'\n",
        "    return 'color: %s' % color\n",
        "\n"
      ],
      "metadata": {
        "id": "1i-8EM5EmLQb"
      },
      "execution_count": null,
      "outputs": []
    },
    {
      "cell_type": "code",
      "source": [
        "\n",
        "data = {'y_test': y_test, 'y_pred': y_pred}\n",
        "\n",
        "df = pd.DataFrame(data)\n",
        "df.style.applymap(color_cell, subset=['y_test', 'y_pred'])\n",
        "\n",
        "print(df)"
      ],
      "metadata": {
        "colab": {
          "base_uri": "https://localhost:8080/"
        },
        "id": "iOssdijFjuI-",
        "outputId": "52b82b6e-5c66-499e-cd4d-1266e42d6596"
      },
      "execution_count": null,
      "outputs": [
        {
          "output_type": "stream",
          "name": "stdout",
          "text": [
            "     y_test     y_pred\n",
            "0      25.0  21.935023\n",
            "1      20.3  19.720875\n",
            "2      21.4  21.490340\n",
            "3      45.4  36.841149\n",
            "4      24.6  22.898501\n",
            "..      ...        ...\n",
            "97     22.4  18.192279\n",
            "98     19.1  19.294720\n",
            "99      7.2  13.282243\n",
            "100    18.9  19.359570\n",
            "101    23.3  24.705024\n",
            "\n",
            "[102 rows x 2 columns]\n"
          ]
        }
      ]
    },
    {
      "cell_type": "code",
      "source": [
        "print('Valor de la pendiente o coeficiente \"a\":')\n",
        "print(lr.coef_)\n",
        "print('Valor de la interseccion o coeficiente \"b\": ')\n",
        "print(lr.intercept_)"
      ],
      "metadata": {
        "colab": {
          "base_uri": "https://localhost:8080/"
        },
        "id": "0QNr2JuKlI1L",
        "outputId": "ec2dfe67-23d7-4a9a-f89a-24a94fcef4ff"
      },
      "execution_count": null,
      "outputs": [
        {
          "output_type": "stream",
          "name": "stdout",
          "text": [
            "Valor de la pendiente o coeficiente \"a\":\n",
            "[9.26421793]\n",
            "Valor de la interseccion o coeficiente \"b\": \n",
            "-35.60503495652271\n"
          ]
        }
      ]
    },
    {
      "cell_type": "code",
      "source": [
        "print('La ecuacion del modelo es igual a: ')\n",
        "print('y = ', lr.coef_, 'x ', lr.intercept_)"
      ],
      "metadata": {
        "colab": {
          "base_uri": "https://localhost:8080/"
        },
        "id": "KrdTlXvNlv7H",
        "outputId": "9c09884e-c977-4226-d582-7f3c43e656d1"
      },
      "execution_count": null,
      "outputs": [
        {
          "output_type": "stream",
          "name": "stdout",
          "text": [
            "La ecuacion del modelo es igual a: \n",
            "y =  [9.26421793] x  -35.60503495652271\n"
          ]
        }
      ]
    },
    {
      "cell_type": "code",
      "source": [
        "print('Precision del modelo: ', lr.score(X_train, y_train))"
      ],
      "metadata": {
        "colab": {
          "base_uri": "https://localhost:8080/"
        },
        "id": "Dsl3rqoEmgM1",
        "outputId": "0ec014ef-0f49-4854-c517-f592ff8a2049"
      },
      "execution_count": null,
      "outputs": [
        {
          "output_type": "stream",
          "name": "stdout",
          "text": [
            "Precision del modelo:  0.4895519436791226\n"
          ]
        }
      ]
    },
    {
      "cell_type": "code",
      "source": [
        "# Calcula los residuos\n",
        "residuals = y_test - y_pred\n",
        "\n",
        "# Gráfica el histograma de los residuos\n",
        "plt.hist(residuals, bins=50, density=True, alpha=0.5, color='blue')\n",
        "plt.title('Histograma de los residuos')\n",
        "plt.xlabel('Valor')\n",
        "plt.ylabel('Densidad')\n",
        "plt.show()\n"
      ],
      "metadata": {
        "colab": {
          "base_uri": "https://localhost:8080/",
          "height": 295
        },
        "id": "mqEVetOAofKb",
        "outputId": "cff04e83-6a5e-4dad-bbf0-11e51213f019"
      },
      "execution_count": null,
      "outputs": [
        {
          "output_type": "display_data",
          "data": {
            "text/plain": [
              "<Figure size 432x288 with 1 Axes>"
            ],
            "image/png": "[encoded data removed]"
          },
          "metadata": {
            "needs_background": "light"
          }
        }
      ]
    },
    {
      "cell_type": "code",
      "source": [
        "print(residuals)"
      ],
      "metadata": {
        "colab": {
          "base_uri": "https://localhost:8080/"
        },
        "id": "hWJZOcowCv_0",
        "outputId": "1d84812c-3a9e-411c-fc31-2252d8430fc3"
      },
      "execution_count": null,
      "outputs": [
        {
          "output_type": "stream",
          "name": "stdout",
          "text": [
            "[  3.06497741   0.57912549  -0.09034013   8.55885076   1.70149874\n",
            "   1.58213498   5.88711491  -2.70177852   0.31594662  12.58356988\n",
            "  -0.44606513  -3.13237693  -0.42656168   6.17691931  -5.97315054\n",
            "   1.28350584  -0.92957117   0.06250345  -3.44616119   1.8393269\n",
            "  -1.427397     5.6340792    3.12280092  -0.47726312  11.55130082\n",
            "  -3.31605468 -14.25983778   1.8148115    6.40587909   4.39444071\n",
            " -10.95164463  -6.2227809    3.9547818   -3.40040765   4.06012556\n",
            "   0.58049635   3.82681744 -19.21398818  -1.61973939   0.2960153\n",
            "   4.9592262    1.45758757   1.51260532   5.36080078   6.45196444\n",
            "   2.08103189  -0.0426802   -1.01324892   3.22407572   0.7832701\n",
            " -14.65107707  -1.30719792   1.04370725   0.23143354  -0.54565767\n",
            "   4.73611368   0.88103189  -7.79418495   1.39667892  -0.41455574\n",
            "  -1.93639345  -0.76037331  -7.08786618   2.61892409   0.91919185\n",
            "  -3.43040649   0.26453793  -2.66963753   5.50647867   4.49574753\n",
            "  -4.62144206  -8.48295029   2.0832701  -23.83479845  -7.96826667\n",
            "   0.74885888   3.70828901   5.37090033   3.43825583   2.03367175\n",
            "  -6.23341598  -7.05793138 -13.59736614  -0.59850126   0.78464096\n",
            "   3.8487192  -11.23228087   8.01720981  -8.35819915  -6.63174533\n",
            "   1.49982809   4.77510897   2.77209948   1.372603     3.93893105\n",
            "   7.08481266  -9.13642547   4.20772145  -0.19472048  -6.08224305\n",
            "  -0.45957001  -1.40502375]\n"
          ]
        }
      ]
    }
  ]
}